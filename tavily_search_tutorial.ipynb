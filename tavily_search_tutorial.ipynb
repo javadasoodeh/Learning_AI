{
  "cells": [
    {
      "cell_type": "markdown",
      "metadata": {
        "id": "view-in-github",
        "colab_type": "text"
      },
      "source": [
        "<a href=\"https://colab.research.google.com/github/javadasoodeh/Learning_AI/blob/main/tavily_search_tutorial.ipynb\" target=\"_parent\"><img src=\"https://colab.research.google.com/assets/colab-badge.svg\" alt=\"Open In Colab\"/></a>"
      ]
    },
    {
      "cell_type": "markdown",
      "id": "59bfa363",
      "metadata": {
        "id": "59bfa363"
      },
      "source": [
        "# Getting Started with the Tavily Search API\n",
        "\n",
        "\n",
        "By the end you will be able to:\n",
        "\n",
        "* install the Tavily Python SDK  \n",
        "* add your API key securely  \n",
        "* run text searches  \n",
        "* clean up and display results  \n",
        "* fetch images with `include_images`  \n",
        "* understand the Tavily dashboard\n",
        "\n",
        "> **Tip :** If you're viewing this on GitHub, open it in Colab or Jupyter to execute the code cells.\n"
      ]
    },
    {
      "cell_type": "code",
      "execution_count": 1,
      "id": "0a269280",
      "metadata": {
        "id": "0a269280"
      },
      "outputs": [],
      "source": [
        "# If your environment is fresh (e.g. Google Colab) uncomment ↓\n",
        "!pip install -q tavily-python"
      ]
    },
    {
      "cell_type": "markdown",
      "id": "2580af1d",
      "metadata": {
        "id": "2580af1d"
      },
      "source": [
        "## 1  Get and set your API key\n",
        "\n",
        "1. Sign up or sign in at [Tavily](https://tavily.com/) and copy your key from **Dashboard → API keys**.  \n",
        "2. **Never** commit secrets to Git.  \n",
        "3. Store the key in an env‑variable called `TAVILY_API_KEY`.\n",
        "\n",
        "```bash\n",
        "# macOS / Linux\n",
        "export TAVILY_API_KEY=\"tvly‑YOUR_API_KEY\"\n",
        "# Windows (Powershell)\n",
        "$Env:TAVILY_API_KEY=\"tvly‑YOUR_API_KEY\"\n",
        "```\n",
        "\n",
        "Then initialise the client:\n"
      ]
    },
    {
      "cell_type": "code",
      "source": [
        "# using google secrets\n",
        "from google.colab import userdata\n",
        "import os\n",
        "os.environ[\"TAVILY_API_KEY\"] = userdata.get(\"TAVILY_API_KEY\")"
      ],
      "metadata": {
        "id": "MkYQ9Uyeosno"
      },
      "id": "MkYQ9Uyeosno",
      "execution_count": 2,
      "outputs": []
    },
    {
      "cell_type": "code",
      "execution_count": 3,
      "id": "9864e035",
      "metadata": {
        "id": "9864e035"
      },
      "outputs": [],
      "source": [
        "import os\n",
        "from tavily import TavilyClient\n",
        "\n",
        "client = TavilyClient(api_key=os.getenv(\"TAVILY_API_KEY\"))\n"
      ]
    },
    {
      "cell_type": "markdown",
      "id": "f8aead65",
      "metadata": {
        "id": "f8aead65"
      },
      "source": [
        "## 2  Run a basic search"
      ]
    },
    {
      "cell_type": "code",
      "execution_count": 8,
      "id": "c5a73d53",
      "metadata": {
        "colab": {
          "base_uri": "https://localhost:8080/"
        },
        "id": "c5a73d53",
        "outputId": "1eda025b-cffd-4157-d838-351c941061dd"
      },
      "outputs": [
        {
          "output_type": "stream",
          "name": "stdout",
          "text": [
            "  {\n",
            "    \"query\": \"Who is Leo Messi?\",\n",
            "    \"follow_up_questions\": null,\n",
            "    \"answer\": null,\n",
            "    \"images\": [],\n",
            "    \"results\": [\n",
            "      {\n",
            "        \"title\": \"Lionel Messi - Wikipedia\",\n",
            "        \"url\": \"https://en.wikipedia.org/wiki/Lionel_Messi\",\n",
            "        \"content\": \"Widely regarded as one of the greatest players of all time, Messi set numerous records for individual accolades won throughout his professional footballing career such as eight Ballon d'Or awards and eight times being named the world's best player by FIFA.[note 2] He is the most decorated player in the history of professional football having won 45 team trophies,[note 3] including twelve Big Five league titles, four UEFA Champions Leagues, two Copa Am\\u00e9ricas, and one FIFA World Cup. Messi holds the records for most European Golden Shoes (6), most goals in a calendar year (91), most goals for a single club (672, with Barcelona), most goals (474), hat-tricks (36) and assists (192) in La Liga, most assists (18) and goal contributions (32) in the Copa Am\\u00e9rica, most goal contributions (21) in the World Cup, most international appearances (191) and international goals (112) by a South American male, and the second-most in the latter category outright.\",\n",
            "        \"score\": 0.80698997,\n",
            "        \"raw_content\": null\n",
            "      },\n",
            "      {\n",
            "        \"title\": \"Lionel Messi: Biography, Soccer Player, Inter Miami CF, Athlete\",\n",
            "        \"url\": \"https://www.biography.com/athletes/lionel-messi\",\n",
            "        \"content\": \"Lionel Messi, a forward for Inter Miami CF, is one of the world\\u2019s greatest soccer players and helped the Argentina national team win its third FIFA World Cup in 2022. Messi, now playing for Inter Miami CF of the MLS, helped his home country win soccer\\u2019s biggest event for the first time since 1986, scoring two goals in the final and leading Argentina to a 4-2 win over Kylian Mbapp\\u00e9 and France on penalties. Lionel Messi is an Argentinian soccer player who has played for FC Barcelona, Paris Saint-Germain, and currently, the MLS club Inter Miami CF as well as the Argentina national team.\",\n",
            "        \"score\": 0.79901963,\n",
            "        \"raw_content\": null\n",
            "      },\n",
            "      {\n",
            "        \"title\": \"Official site\",\n",
            "        \"url\": \"https://messi.com\",\n",
            "        \"content\": \"Web oficial Leo Messi jugador del Inter de Miami \\u2013 messi.com \\u2013 Web oficial de Lionel Messi, jugador del Futbol Profesional y campe\\u00f3n mundial con la selecci\\u00f3n Argentina Web oficial Leo Messi jugador del Inter de Miami - messi.com Inter Miami CF disputa este domingo la novena jornada de la MLS ante Dallas en el Chase Stadium. Leo se enfrenta este s\\u00e1bado a Columbus Crew en la octava jornada de la MLS para Inter Miami en el [\\u2026] Inter Miami y Chicago Fire empataron 0-0 en el partido correspondiente a la jornada 7 de la MLS del encuentro [\\u2026] Leo Messi Management S.L.U. utiliza cookies propias y de terceros para ofrecerle contenidos adaptados a sus intereses.\",\n",
            "        \"score\": 0.69622743,\n",
            "        \"raw_content\": null\n",
            "      },\n",
            "      {\n",
            "        \"title\": \"Lionel Messi Biography - Facts, Childhood, Family Life & Achievements\",\n",
            "        \"url\": \"https://www.thefamouspeople.com/profiles/lionel-messi-5242.php\",\n",
            "        \"content\": \"Lionel Messi has won multiple FIFA Ballon d'Or awards, numerous La Liga titles with FC Barcelona, and holds the record for most goals scored in a calendar year. In the finals too Messi scored the winning goal to give Barcelona their third title in six years and fourth overall. In the 2018 Football World Cup Messi scored a goal in the Argentina's final group match against Nigeria and helped his team to a 2-1 victory. Messi has in his kitty 20 Player of the Year awards including FIFA World Player of the Year (1), World Soccer Player of the Year (3), Goal.com Player of the Year (2), UEFA Best Player in Europe Award (1), UEFA Club Footballer of the Year (1), FIFA U-20 World Cup Player of the Tournament (1), La Liga Player of the Year (3), La Liga Foreign Player of the Year (3) and La Liga Ibero-American Player of the Year (5).\",\n",
            "        \"score\": 0.5792344,\n",
            "        \"raw_content\": null\n",
            "      },\n",
            "      {\n",
            "        \"title\": \"Lionel Messi | Biography, Trophies, Records, Ballon d'Or, Inter Miami ...\",\n",
            "        \"url\": \"https://www.britannica.com/biography/Lionel-Messi\",\n",
            "        \"content\": \"Lionel Messi scored 73 goals during the 2011\\u201312 season while playing for FC Barcelona, breaking\\u00a0a 39-year-old record for single-season goals in a major European football league. Britannica Quiz Great Moments in Sports QuizMessi\\u2019s play continued to rapidly improve over the years, and by 2008 he was one of the most dominant players in the world, finishing second to Manchester United\\u2019s Cristiano Ronaldo in the voting for the 2008 Ballon d\\u2019Or. In early 2009 Messi capped off a spectacular 2008\\u201309 season by helping FC Barcelona capture the club\\u2019s first \\u201ctreble\\u201d (winning three major European club titles in one season): the team won the La Liga championship, the Copa del Rey (Spain\\u2019s major domestic cup), and the Champions League title.\",\n",
            "        \"score\": 0.54782754,\n",
            "        \"raw_content\": null\n",
            "      }\n",
            "    ],\n",
            "    \"response_time\": 1.98\n",
            "  }\n"
          ]
        }
      ],
      "source": [
        "query = \"Who is Leo Messi?\"\n",
        "response = client.search(query)\n",
        "\n",
        "# Peek at the raw structure\n",
        "import json, textwrap, itertools\n",
        "print(textwrap.indent(json.dumps(response, indent=2), '  '))\n"
      ]
    },
    {
      "cell_type": "markdown",
      "id": "ef4bf44b",
      "metadata": {
        "id": "ef4bf44b"
      },
      "source": [
        "### Clean up the response\n",
        "\n",
        "`response[\"results\"]` is a list of dicts with at least `title`, `content` and `url`.\n"
      ]
    },
    {
      "cell_type": "code",
      "execution_count": 9,
      "id": "62d44625",
      "metadata": {
        "colab": {
          "base_uri": "https://localhost:8080/"
        },
        "id": "62d44625",
        "outputId": "1690e546-a140-4f08-bd75-10a8c3e30487"
      },
      "outputs": [
        {
          "output_type": "stream",
          "name": "stdout",
          "text": [
            "\n",
            "Result 1: Lionel Messi - Wikipedia\n",
            "Widely regarded as one of the greatest players of all time, Messi set numerous records for individual accolades won throughout his professional footballing career such as eight Ballon d'Or awards and eight times being named the world's best player by FIFA.[note 2] He is the most decorated player in the history of professional football having won 45 team trophies,[note 3] including twelve Big Five league titles, four UEFA Champions Leagues, two Copa Américas, and one FIFA World Cup. Messi holds the records for most European Golden Shoes (6), most goals in a calendar year (91), most goals for a single club (672, with Barcelona), most goals (474), hat-tricks (36) and assists (192) in La Liga, most assists (18) and goal contributions (32) in the Copa América, most goal contributions (21) in the World Cup, most international appearances (191) and international goals (112) by a South American male, and the second-most in the latter category outright.…\n",
            "↗ https://en.wikipedia.org/wiki/Lionel_Messi\n",
            "\n",
            "Result 2: Lionel Messi: Biography, Soccer Player, Inter Miami CF, Athlete\n",
            "Lionel Messi, a forward for Inter Miami CF, is one of the world’s greatest soccer players and helped the Argentina national team win its third FIFA World Cup in 2022. Messi, now playing for Inter Miami CF of the MLS, helped his home country win soccer’s biggest event for the first time since 1986, scoring two goals in the final and leading Argentina to a 4-2 win over Kylian Mbappé and France on penalties. Lionel Messi is an Argentinian soccer player who has played for FC Barcelona, Paris Saint-Germain, and currently, the MLS club Inter Miami CF as well as the Argentina national team.…\n",
            "↗ https://www.biography.com/athletes/lionel-messi\n",
            "\n",
            "Result 3: Official site\n",
            "Web oficial Leo Messi jugador del Inter de Miami – messi.com – Web oficial de Lionel Messi, jugador del Futbol Profesional y campeón mundial con la selección Argentina Web oficial Leo Messi jugador del Inter de Miami - messi.com Inter Miami CF disputa este domingo la novena jornada de la MLS ante Dallas en el Chase Stadium. Leo se enfrenta este sábado a Columbus Crew en la octava jornada de la MLS para Inter Miami en el […] Inter Miami y Chicago Fire empataron 0-0 en el partido correspondiente a la jornada 7 de la MLS del encuentro […] Leo Messi Management S.L.U. utiliza cookies propias y de terceros para ofrecerle contenidos adaptados a sus intereses.…\n",
            "↗ https://messi.com\n"
          ]
        }
      ],
      "source": [
        "for i, r in enumerate(response[\"results\"][:3], 1):\n",
        "    print(f\"\\nResult {i}: {r['title']}\\n{r['content']}…\\n↗ {r['url']}\")\n"
      ]
    },
    {
      "cell_type": "markdown",
      "id": "d7f81b4e",
      "metadata": {
        "id": "d7f81b4e"
      },
      "source": [
        "## 3  Retrieve images (optional)\n",
        "\n",
        "Add `include_images=True` to get an `images` list:\n"
      ]
    },
    {
      "cell_type": "code",
      "execution_count": 12,
      "id": "ef2ddb79",
      "metadata": {
        "colab": {
          "base_uri": "https://localhost:8080/",
          "height": 563
        },
        "id": "ef2ddb79",
        "outputId": "705245be-c7d3-4620-fb29-b954e76d83a0"
      },
      "outputs": [
        {
          "output_type": "display_data",
          "data": {
            "text/html": [
              "<img src=\"https://blogger.googleusercontent.com/img/b/R29vZ2xl/AVvXsEiHid9ytlEz5YgWvq0trGgPtdJjJPQmwLW5O2cM7_ijj1m5CYH1eUYvUmFEFGGVpBbIWRw7IOpejbcdPA0g4ru6rIGYTMegugSVyI9hveMHkipxJp98UlPQBv0xpQwqN72jryCrcqgBZ-7xZXeEaj2zpdZTsbaJvOCD83CAP3ihbiLxC1Y3iLC1BkdW5Ys/s1600-rw/messi-ronaldo.webp\"/>"
            ],
            "text/plain": [
              "<IPython.core.display.Image object>"
            ]
          },
          "metadata": {}
        }
      ],
      "source": [
        "resp_with_images = client.search(query, include_images=True)\n",
        "images = resp_with_images.get(\"images\", [])[:1]\n",
        "\n",
        "from IPython.display import Image, display\n",
        "for url in images:\n",
        "    display(Image(url=url))\n"
      ]
    },
    {
      "cell_type": "markdown",
      "id": "66e1f784",
      "metadata": {
        "id": "66e1f784"
      },
      "source": [
        "## 4  Know your dashboard\n",
        "\n",
        "* **Usage tracking** – every account starts with **1 000 free searches/month**.  \n",
        "* **Key management** – create multiple keys, name them, set limits.  \n",
        "* **API Playground** – experiment with parameters live.  \n",
        "* **Community** – ask questions and share builds at <https://community.tavily.com>.\n"
      ]
    },
    {
      "cell_type": "markdown",
      "id": "572e63c9",
      "metadata": {
        "id": "572e63c9"
      },
      "source": [
        "## 5  Next steps\n",
        "\n",
        "* Dive into advanced parameters in the [docs](https://docs.tavily.com).  \n",
        "* Try the LangChain or Llama‑Index integrations for RAG pipelines.  \n",
        "* Build something cool and share it with the community!\n"
      ]
    }
  ],
  "metadata": {
    "colab": {
      "provenance": [],
      "include_colab_link": true
    },
    "language_info": {
      "name": "python"
    },
    "kernelspec": {
      "name": "python3",
      "display_name": "Python 3"
    }
  },
  "nbformat": 4,
  "nbformat_minor": 5
}